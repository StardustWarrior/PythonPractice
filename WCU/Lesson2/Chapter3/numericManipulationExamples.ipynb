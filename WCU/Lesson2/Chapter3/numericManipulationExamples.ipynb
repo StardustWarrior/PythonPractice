{
 "cells": [
  {
   "cell_type": "code",
   "execution_count": 1,
   "metadata": {},
   "outputs": [
    {
     "name": "stdout",
     "output_type": "stream",
     "text": [
      "4\n",
      "100000000000000000000\n"
     ]
    }
   ],
   "source": [
    "#Numeric Manipulation\n",
    "#Basic Math\n",
    "print (2 ** 2)\n",
    "print (100 ** 10)"
   ]
  },
  {
   "cell_type": "code",
   "execution_count": 2,
   "metadata": {},
   "outputs": [
    {
     "name": "stdout",
     "output_type": "stream",
     "text": [
      "The value of Pi is\n",
      "3.141592653589793\n",
      "There's even another way to\n",
      "do power, with math.pow\n",
      "4.0\n"
     ]
    }
   ],
   "source": [
    "#Importing libraries\n",
    "import math\n",
    "\n",
    "print (\"The value of Pi is\")\n",
    "print (math.pi)\n",
    "\n",
    "print (\"There's even another way to\")\n",
    "print (\"do power, with math.pow\")\n",
    "print (math.pow(2, 2) )"
   ]
  },
  {
   "cell_type": "code",
   "execution_count": 5,
   "metadata": {},
   "outputs": [
    {
     "name": "stdout",
     "output_type": "stream",
     "text": [
      "New York\n",
      "and over and over and over \n",
      "================================================================================\n"
     ]
    }
   ],
   "source": [
    "#String Manipulation\n",
    "print (\"New \" + \"York\")\n",
    "\n",
    "print (\"and over \" * 3) \n",
    "\n",
    "print(\"=\" * 80)"
   ]
  },
  {
   "cell_type": "code",
   "execution_count": 6,
   "metadata": {},
   "outputs": [
    {
     "name": "stdout",
     "output_type": "stream",
     "text": [
      "23\n"
     ]
    }
   ],
   "source": [
    "#Other String Manipulation Commands\n",
    "word = \"My words are important!\"\n",
    "print (len(word))"
   ]
  },
  {
   "cell_type": "code",
   "execution_count": 7,
   "metadata": {},
   "outputs": [
    {
     "name": "stdout",
     "output_type": "stream",
     "text": [
      "P\n"
     ]
    }
   ],
   "source": [
    "#Indexing and Slicing\n",
    "phrase = \"Python rocks\"\n",
    "print (phrase [0] )\n",
    "#phrase = 'p' + phrase [1:] "
   ]
  },
  {
   "cell_type": "code",
   "execution_count": 10,
   "metadata": {},
   "outputs": [
    {
     "name": "stdout",
     "output_type": "stream",
     "text": [
      "yt\n",
      "rock\n",
      "rocks\n"
     ]
    }
   ],
   "source": [
    "#Slicing\n",
    "phrase = \"Python rocks\"\n",
    "print (phrase [1:3] )\n",
    "print (phrase [7:11] )\n",
    "print (phrase [7:] ) "
   ]
  }
 ],
 "metadata": {
  "kernelspec": {
   "display_name": "Python 3",
   "language": "python",
   "name": "python3"
  },
  "language_info": {
   "codemirror_mode": {
    "name": "ipython",
    "version": 3
   },
   "file_extension": ".py",
   "mimetype": "text/x-python",
   "name": "python",
   "nbconvert_exporter": "python",
   "pygments_lexer": "ipython3",
   "version": "3.12.5"
  }
 },
 "nbformat": 4,
 "nbformat_minor": 2
}
