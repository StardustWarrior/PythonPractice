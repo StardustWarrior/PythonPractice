{
 "cells": [
  {
   "cell_type": "code",
   "execution_count": 2,
   "metadata": {},
   "outputs": [
    {
     "name": "stdout",
     "output_type": "stream",
     "text": [
      "The ordered list of words are:\n",
      "dos t 2\n",
      "tres t 1\n",
      "uno t 3\n",
      "\n",
      "Ordered by number of times entered:\n",
      "tres t 1\n",
      "dos t 2\n",
      "uno t 3\n"
     ]
    }
   ],
   "source": [
    "#Letting Users Add Words to a Dictionary\n",
    "words = {}\n",
    "value = input(\"Please enter a word (or -999 to quit): \")\n",
    "while (value != '-999'):\n",
    "    if value in words:\n",
    "        words [value] = words [value] + 1\n",
    "    else:\n",
    "        words [value] = 1\n",
    "\n",
    "    value = input(\"Please enter a word (or -999 to quit): \")\n",
    "\n",
    "print (\"The ordered list of words are:\")\n",
    "my_keys = list(words.keys())\n",
    "my_keys.sort()\n",
    "for current_key in my_keys:\n",
    "    print (current_key, 't', words [current_key] )\n",
    "\n",
    "#Displaying Words by Number of Times Entered\n",
    "print ()\n",
    "print (\"Ordered by number of times entered:\")\n",
    "temp_list = []\n",
    "# Select a key in the dictionary\n",
    "for current_key in words.keys():\n",
    "    # determine the number of words in the sorted list\n",
    "    list_length = len(temp_list)\n",
    "\n",
    "    # start looking at position 0\n",
    "    placeholder = 0\n",
    "\n",
    "    # As long as there are still items in the list\n",
    "    while placeholder < list_length:\n",
    "\n",
    "        # Get the word in the sorted list\n",
    "        list_key = temp_list [placeholder]\n",
    "\n",
    "        # Determine if this word has been entered\n",
    "        # more times than the current word\n",
    "        if words [list_key] > words [current_key] :\n",
    "            break\n",
    "\n",
    "        # It wasn't, so let's look at the next word\n",
    "        # in the sorted list\n",
    "        placeholder = placeholder + 1\n",
    "\n",
    "    # We found the location in the sorted list for\n",
    "    # this word, insert it\n",
    "    temp_list.insert(placeholder, current_key)\n",
    "\n",
    "for current_key in temp_list:\n",
    "    print (current_key, 't', words [current_key] )"
   ]
  }
 ],
 "metadata": {
  "kernelspec": {
   "display_name": "Python 3",
   "language": "python",
   "name": "python3"
  },
  "language_info": {
   "codemirror_mode": {
    "name": "ipython",
    "version": 3
   },
   "file_extension": ".py",
   "mimetype": "text/x-python",
   "name": "python",
   "nbconvert_exporter": "python",
   "pygments_lexer": "ipython3",
   "version": "3.11.5"
  }
 },
 "nbformat": 4,
 "nbformat_minor": 2
}
