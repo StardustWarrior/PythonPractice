{
 "cells": [
  {
   "cell_type": "code",
   "execution_count": 3,
   "metadata": {},
   "outputs": [
    {
     "name": "stdout",
     "output_type": "stream",
     "text": [
      "31\n",
      "{'Jan': 31, 'Feb': 28, 'Mar': 31}\n"
     ]
    }
   ],
   "source": [
    "#Dictionary Basics\n",
    "#Creating a Dictionary\n",
    "#Key : Value\n",
    "#days_in_month = {'Jan':31}\n",
    "\n",
    "days_in_month = {'Jan':31, 'Feb':28, 'Mar':31}\n",
    "\n",
    "#Placing one per line\n",
    "\n",
    "'''\n",
    "days_in_month = {'Jan':31,\n",
    "    'Feb':28,\n",
    "    'Mar':31}\n",
    "'''\n",
    "\n",
    "#Printing from a Dictionary\n",
    "print (days_in_month ['Jan'])\n",
    "\n",
    "#Printing all the Dictionary\n",
    "print (days_in_month)"
   ]
  }
 ],
 "metadata": {
  "kernelspec": {
   "display_name": "Python 3",
   "language": "python",
   "name": "python3"
  },
  "language_info": {
   "codemirror_mode": {
    "name": "ipython",
    "version": 3
   },
   "file_extension": ".py",
   "mimetype": "text/x-python",
   "name": "python",
   "nbconvert_exporter": "python",
   "pygments_lexer": "ipython3",
   "version": "3.11.5"
  }
 },
 "nbformat": 4,
 "nbformat_minor": 2
}
