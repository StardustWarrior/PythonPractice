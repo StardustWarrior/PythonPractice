{
 "cells": [
  {
   "cell_type": "code",
   "execution_count": 10,
   "metadata": {},
   "outputs": [
    {
     "name": "stdout",
     "output_type": "stream",
     "text": [
      "dict_keys(['Jan', 'Feb', 'Mar'])\n",
      "dict_values([31, 28, 31])\n",
      "dict_items([('Jan', 31), ('Feb', 28), ('Mar', 31)])\n",
      "Is Feb present:  True\n",
      "Is Sat present:  False\n",
      "Adding a new value\n",
      "{'Jan': 31, 'Feb': 28, 'Mar': 31, 'Apr': 20}\n",
      "{'Jan': 31, 'Feb': 28, 'Mar': 31, 'Apr': 30}\n"
     ]
    }
   ],
   "source": [
    "#Listing the Keys and the Values\n",
    "days_in_month = {'Jan':31, 'Feb':28, 'Mar':31}\n",
    "\n",
    "print (days_in_month.keys())\n",
    "print (days_in_month.values())\n",
    "\n",
    "#Listing the Key-Value Pairs\n",
    "print (days_in_month.items())\n",
    "\n",
    "#Testing Whether a Key is Present\n",
    "print (\"Is Feb present: \",'Feb' in days_in_month)\n",
    "print (\"Is Sat present: \",'Sat' in days_in_month)\n",
    "\n",
    "#Adding Values\n",
    "print(\"Adding a new value\")\n",
    "days_in_month ['Apr'] = 20\n",
    "print(days_in_month)\n",
    "\n",
    "days_in_month ['Apr'] = 30\n",
    "print(days_in_month)"
   ]
  },
  {
   "cell_type": "code",
   "execution_count": 11,
   "metadata": {},
   "outputs": [
    {
     "name": "stdout",
     "output_type": "stream",
     "text": [
      "dict_items([('Jan', 31), ('Feb', 28), ('Mar', 31), ('Apr', 30), ('May', 31), ('Jun', 30)])\n"
     ]
    }
   ],
   "source": [
    "#Combining Dictionaries\n",
    "my_dictionary = { }\n",
    "\n",
    "days_in_month = {'Jan':31, 'Feb':28, 'Mar':31} \n",
    "days_in_month2 = {'Apr':30, 'May':31, 'Jun':30}\n",
    "days_in_month.update(days_in_month2)\n",
    "print (days_in_month.items())"
   ]
  },
  {
   "cell_type": "code",
   "execution_count": 12,
   "metadata": {},
   "outputs": [
    {
     "name": "stdout",
     "output_type": "stream",
     "text": [
      "After clearing odds:\n",
      "{}\n",
      "After clearing evens:\n"
     ]
    },
    {
     "ename": "NameError",
     "evalue": "name 'evens' is not defined",
     "output_type": "error",
     "traceback": [
      "\u001b[1;31m---------------------------------------------------------------------------\u001b[0m",
      "\u001b[1;31mNameError\u001b[0m                                 Traceback (most recent call last)",
      "Cell \u001b[1;32mIn[12], line 11\u001b[0m\n\u001b[0;32m      9\u001b[0m \u001b[38;5;28;01mdel\u001b[39;00m evens\n\u001b[0;32m     10\u001b[0m \u001b[38;5;28mprint\u001b[39m (\u001b[38;5;124m\"\u001b[39m\u001b[38;5;124mAfter clearing evens:\u001b[39m\u001b[38;5;124m\"\u001b[39m)\n\u001b[1;32m---> 11\u001b[0m \u001b[38;5;28mprint\u001b[39m (\u001b[43mevens\u001b[49m)\n",
      "\u001b[1;31mNameError\u001b[0m: name 'evens' is not defined"
     ]
    }
   ],
   "source": [
    "#Removing Items from a Dictionary\n",
    "odds = {1:'one', 3:'three', 5:'five'}\n",
    "evens = {2:'two', 4:'four', 6:'six'}\n",
    "odds.clear()\n",
    "\n",
    "print (\"After clearing odds:\")\n",
    "print (odds)\n",
    "\n",
    "del evens\n",
    "print (\"After clearing evens:\")\n",
    "print (evens)"
   ]
  },
  {
   "cell_type": "code",
   "execution_count": 13,
   "metadata": {},
   "outputs": [
    {
     "name": "stdout",
     "output_type": "stream",
     "text": [
      "None\n",
      "January not present\n"
     ]
    }
   ],
   "source": [
    "#Accessing Values using the get() Function\n",
    "days_in_month = {}\n",
    "print (days_in_month.get('January'))\n",
    "print (days_in_month.get('January', 'January not present'))"
   ]
  }
 ],
 "metadata": {
  "kernelspec": {
   "display_name": "Python 3",
   "language": "python",
   "name": "python3"
  },
  "language_info": {
   "codemirror_mode": {
    "name": "ipython",
    "version": 3
   },
   "file_extension": ".py",
   "mimetype": "text/x-python",
   "name": "python",
   "nbconvert_exporter": "python",
   "pygments_lexer": "ipython3",
   "version": "3.11.5"
  }
 },
 "nbformat": 4,
 "nbformat_minor": 2
}
