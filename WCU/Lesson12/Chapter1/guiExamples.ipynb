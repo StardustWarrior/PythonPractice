{
 "cells": [
  {
   "cell_type": "code",
   "execution_count": 1,
   "metadata": {},
   "outputs": [],
   "source": [
    "#Frames, Buttons, and Labels\n",
    "#Creating a Frame\n",
    "from tkinter import *\n",
    "\n",
    "class MyFrame(Frame):\n",
    "    def __init__(self):\n",
    "        Frame.__init__(self)\n",
    "        \n",
    "frame01 = MyFrame()\n",
    "frame01.mainloop()"
   ]
  },
  {
   "cell_type": "code",
   "execution_count": 1,
   "metadata": {},
   "outputs": [
    {
     "name": "stdout",
     "output_type": "stream",
     "text": [
      "You did it!\n"
     ]
    }
   ],
   "source": [
    "#Adding a Label\n",
    "#Changing the Frame Size and Adding a Title\n",
    "#Adding a Button\n",
    "from tkinter import *\n",
    "\n",
    "class MyFrame(Frame):\n",
    "    def __init__(self):\n",
    "        Frame.__init__(self)\n",
    "        #Changes the size of the frame\n",
    "        self.master.geometry(\"250x200\")\n",
    "        #Changes the name of the Frame\n",
    "        self.master.title(\"My GUI\")\n",
    "        self.grid()\n",
    "        \n",
    "        self.message = Label(self, text= \"Hello World!\")\n",
    "        self.message.grid()\n",
    "        \n",
    "        self.button_click_here = Button(self, text= \"Click here!\", command = self.click_here_click)\n",
    "        self.button_click_here.grid()\n",
    "        \n",
    "    def click_here_click(self):\n",
    "        print(\"You did it!\")\n",
    "        \n",
    "frame01 = MyFrame()\n",
    "frame01.mainloop()"
   ]
  }
 ],
 "metadata": {
  "kernelspec": {
   "display_name": "Python 3",
   "language": "python",
   "name": "python3"
  },
  "language_info": {
   "codemirror_mode": {
    "name": "ipython",
    "version": 3
   },
   "file_extension": ".py",
   "mimetype": "text/x-python",
   "name": "python",
   "nbconvert_exporter": "python",
   "pygments_lexer": "ipython3",
   "version": "3.11.5"
  }
 },
 "nbformat": 4,
 "nbformat_minor": 2
}
