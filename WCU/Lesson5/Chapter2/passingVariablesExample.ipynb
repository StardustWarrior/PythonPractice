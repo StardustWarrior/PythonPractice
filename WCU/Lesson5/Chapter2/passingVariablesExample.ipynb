{
 "cells": [
  {
   "cell_type": "code",
   "execution_count": 1,
   "metadata": {},
   "outputs": [
    {
     "name": "stdout",
     "output_type": "stream",
     "text": [
      "Your value is: 5\n",
      "Your value is: number\n",
      "Your value is: Pat\n"
     ]
    }
   ],
   "source": [
    "#Passing Values to Functions\n",
    "def print_value(value):\n",
    "    \"\"\"This function prints the value passed in\"\"\"\n",
    "    print (\"Your value is:\", value)\n",
    "\n",
    "print_value(5)\n",
    "print_value(\"number\")\n",
    "\n",
    "name = \"Pat\"\n",
    "print_value(name)"
   ]
  },
  {
   "cell_type": "code",
   "execution_count": 2,
   "metadata": {},
   "outputs": [
    {
     "name": "stdout",
     "output_type": "stream",
     "text": [
      "Outside, number is: 5\n",
      "Inside, value is: 5\n",
      "Inside, value is changed to: 1\n",
      "Outside, number is now: 5\n"
     ]
    }
   ],
   "source": [
    "#Modifying Variables Inside a Function\n",
    "def change_value(value):\n",
    "    \"\"\"This function changes the value passed in to 1\"\"\"\n",
    "    print (\"Inside, value is:\", value)\n",
    "    value = 1\n",
    "    print (\"Inside, value is changed to:\", value)\n",
    "\n",
    "number = 5\n",
    "print (\"Outside, number is:\", number)\n",
    "change_value(number)\n",
    "print (\"Outside, number is now:\", number)"
   ]
  },
  {
   "cell_type": "code",
   "execution_count": 5,
   "metadata": {},
   "outputs": [
    {
     "name": "stdout",
     "output_type": "stream",
     "text": [
      "Outside, number is: 5\n",
      "Outside, number is now: 1\n"
     ]
    }
   ],
   "source": [
    "#Global Variables\n",
    "def change_number():\n",
    "    \"\"\"This function changes the value passed in to 1 (global)\"\"\"\n",
    "    global number\n",
    "    number = 1\n",
    "\n",
    "number = 5\n",
    "print (\"Outside, number is:\", number)\n",
    "change_number()\n",
    "print (\"Outside, number is now:\", number)"
   ]
  }
 ],
 "metadata": {
  "kernelspec": {
   "display_name": "Python 3",
   "language": "python",
   "name": "python3"
  },
  "language_info": {
   "codemirror_mode": {
    "name": "ipython",
    "version": 3
   },
   "file_extension": ".py",
   "mimetype": "text/x-python",
   "name": "python",
   "nbconvert_exporter": "python",
   "pygments_lexer": "ipython3",
   "version": "3.12.5"
  }
 },
 "nbformat": 4,
 "nbformat_minor": 2
}
