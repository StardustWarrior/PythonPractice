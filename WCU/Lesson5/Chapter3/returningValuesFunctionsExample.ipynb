{
 "cells": [
  {
   "cell_type": "code",
   "execution_count": 1,
   "metadata": {},
   "outputs": [
    {
     "name": "stdout",
     "output_type": "stream",
     "text": [
      "1\n",
      "4\n",
      "9\n",
      "16\n",
      "25\n",
      "36\n",
      "49\n",
      "64\n",
      "81\n",
      "100\n"
     ]
    }
   ],
   "source": [
    "#Returning Values from Functions\n",
    "def square(num):\n",
    "    \"\"\"This function calculates the square of a number\"\"\"\n",
    "    result = num * num\n",
    "    return result\n",
    "\n",
    "for i in range(1,11):\n",
    "    print (square(i))"
   ]
  },
  {
   "cell_type": "code",
   "execution_count": 4,
   "metadata": {},
   "outputs": [
    {
     "name": "stdout",
     "output_type": "stream",
     "text": [
      "Welcome to my program\n",
      "I hope you like it\n",
      "None\n"
     ]
    }
   ],
   "source": [
    "#All Python Functions Return a Value\n",
    "def print_welcome():\n",
    "    \"\"\"This function prints two lines of text\"\"\"\n",
    "    print (\"Welcome to my program\")\n",
    "    print (\"I hope you like it\")\n",
    "\n",
    "print (print_welcome())"
   ]
  },
  {
   "cell_type": "code",
   "execution_count": 5,
   "metadata": {},
   "outputs": [
    {
     "name": "stdout",
     "output_type": "stream",
     "text": [
      "1\n"
     ]
    }
   ],
   "source": [
    "#Default Arguments\n",
    "def square(num = 1):\n",
    "    \"\"\"This function calculates the square of a number\"\"\"\n",
    "    result = num * num\n",
    "    return result\n",
    "\n",
    "print (square( ))"
   ]
  },
  {
   "cell_type": "code",
   "execution_count": 8,
   "metadata": {},
   "outputs": [
    {
     "name": "stdout",
     "output_type": "stream",
     "text": [
      "Try again\n",
      "Try again\n"
     ]
    }
   ],
   "source": [
    "#Default Arguments Example 2\n",
    "def prompt_user(prompt, num_tries = 2):\n",
    "    \"\"\"This function prompts the user a certain number of times\"\"\"\n",
    "    answer = input(prompt)\n",
    "\n",
    "    while (answer != \"yes\" and answer != \"no\" and num_tries > 1):\n",
    "       num_tries = num_tries - 1\n",
    "       print (\"Try again\")\n",
    "       answer = input(prompt)\n",
    "\n",
    "prompt_user(\"Enter yes or no: \", 3)"
   ]
  },
  {
   "cell_type": "code",
   "execution_count": 9,
   "metadata": {},
   "outputs": [
    {
     "name": "stdout",
     "output_type": "stream",
     "text": [
      "Try again\n",
      "Try again\n"
     ]
    }
   ],
   "source": [
    "#Keyword Arguments\n",
    "def prompt_user(prompt, num_tries = 2):\n",
    "    \"\"\"This function prompts the user a certain number of times\"\"\"\n",
    "    answer = input(prompt)\n",
    "\n",
    "    while (answer != \"yes\" and answer != \"no\" and num_tries > 1):\n",
    "       num_tries = num_tries - 1\n",
    "       print (\"Try again\")\n",
    "       answer = input(prompt)\n",
    "\n",
    "prompt_user(num_tries=3, prompt=\"Hi. Go again? \")"
   ]
  }
 ],
 "metadata": {
  "kernelspec": {
   "display_name": "Python 3",
   "language": "python",
   "name": "python3"
  },
  "language_info": {
   "codemirror_mode": {
    "name": "ipython",
    "version": 3
   },
   "file_extension": ".py",
   "mimetype": "text/x-python",
   "name": "python",
   "nbconvert_exporter": "python",
   "pygments_lexer": "ipython3",
   "version": "3.12.5"
  }
 },
 "nbformat": 4,
 "nbformat_minor": 2
}
