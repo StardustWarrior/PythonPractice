{
 "cells": [
  {
   "cell_type": "code",
   "execution_count": 2,
   "metadata": {},
   "outputs": [
    {
     "name": "stdout",
     "output_type": "stream",
     "text": [
      "Welcome to my program\n",
      "I hope you like it\n",
      "\n",
      "To say it again\n",
      "\n",
      "Welcome to my program\n",
      "I hope you like it\n"
     ]
    }
   ],
   "source": [
    "#Creating a Function\n",
    "def print_welcome():\n",
    "    \"\"\"This function prints two lines of text\"\"\"\n",
    "    print (\"Welcome to my program\")\n",
    "    print (\"I hope you like it\")\n",
    "\n",
    "print_welcome()\n",
    "print()\n",
    "print (\"To say it again\")\n",
    "print()\n",
    "print_welcome()"
   ]
  }
 ],
 "metadata": {
  "kernelspec": {
   "display_name": "Python 3",
   "language": "python",
   "name": "python3"
  },
  "language_info": {
   "codemirror_mode": {
    "name": "ipython",
    "version": 3
   },
   "file_extension": ".py",
   "mimetype": "text/x-python",
   "name": "python",
   "nbconvert_exporter": "python",
   "pygments_lexer": "ipython3",
   "version": "3.12.5"
  }
 },
 "nbformat": 4,
 "nbformat_minor": 2
}
