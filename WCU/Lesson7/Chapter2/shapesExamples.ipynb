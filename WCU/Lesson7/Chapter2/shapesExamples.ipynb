{
 "cells": [
  {
   "cell_type": "code",
   "execution_count": 2,
   "metadata": {},
   "outputs": [],
   "source": [
    "#Creating a Rectangle\n",
    "from tkinter import *\n",
    "\n",
    "class MyFrame(Frame):\n",
    "    def __init__(self):\n",
    "        Frame.__init__(self)\n",
    "\n",
    "        self.myCanvas = Canvas(width=300, height=200, bg=\"blue\")\n",
    "        self.myCanvas.grid()\n",
    "        #Params: outline, fill, width, height\n",
    "        self.myCanvas.create_rectangle(10, 10, 100, 100)\n",
    "\n",
    "frame03 = MyFrame()\n",
    "frame03.mainloop()"
   ]
  },
  {
   "cell_type": "code",
   "execution_count": 3,
   "metadata": {},
   "outputs": [],
   "source": [
    "#Creating an Oval\n",
    "class MyFrame2(Frame):\n",
    "    def __init__(self):\n",
    "        Frame.__init__(self)\n",
    "\n",
    "        self.myCanvas = Canvas(width=300, height=200, bg=\"blue\")\n",
    "\n",
    "        self.myCanvas.create_rectangle(10, 10, 200, 100, fill=\"blue\")\n",
    "        self.myCanvas.create_oval(10, 10, 200, 100, fill=\"white\")\n",
    "        self.myCanvas.grid()\n",
    "\n",
    "frame02 = MyFrame2()\n",
    "frame02.mainloop()"
   ]
  },
  {
   "cell_type": "code",
   "execution_count": null,
   "metadata": {},
   "outputs": [],
   "source": [
    "#Lines\n",
    "#Provide four numbers: the starting and ending x and y positions\n",
    "#self.myCanvas.create_line(1, 1, 200, 200, arrow=\"first\")"
   ]
  },
  {
   "cell_type": "code",
   "execution_count": 4,
   "metadata": {},
   "outputs": [],
   "source": [
    "#Text\n",
    "#Parameters: x and y position and the text you want to display\n",
    "#self.myCanvas.create_text(50, 50, text=\"Hello World\")\n",
    "\n",
    "class MyFrame3(Frame):\n",
    "    def __init__(self):\n",
    "        Frame.__init__(self)\n",
    "\n",
    "        self.myCanvas = Canvas(width=300, height=200, bg=\"blue\")\n",
    "\n",
    "        self.myCanvas.create_rectangle(10, 10, 200, 100, fill=\"blue\")\n",
    "        self.myCanvas.create_oval(10, 10, 200, 100, fill=\"white\")\n",
    "\n",
    "        self.myCanvas.create_line(1, 1, 200, 200, arrow=\"first\")\n",
    "        self.myCanvas.create_text(50, 50, text=\"Hello World\")\n",
    "\n",
    "        self.myCanvas.grid()\n",
    "\n",
    "frame03 = MyFrame3()\n",
    "frame03.mainloop()"
   ]
  },
  {
   "cell_type": "code",
   "execution_count": 6,
   "metadata": {},
   "outputs": [],
   "source": [
    "#Text Justification and Anchoring\n",
    "'''\n",
    "The justify option specifies where Python will display the text within the bounding box. The possible values for this option include \"left\", \"center\", and \"right\". \n",
    "(As with the arrow option for a line, the quotation marks are required because each option is a text string, not a numeric value.)\n",
    "'''\n",
    "\n",
    "#Text Anchoring\n",
    "'''\n",
    "The anchor option determines where the text should appear in the bounding box with respect to the point you specify. The default value is \"center\", which means that \n",
    "the center of the text is placed at the x, y location you specify. Other possible options come from compass locations as shown below:\n",
    "'''\n",
    "\n",
    "class MyFrame4(Frame):\n",
    "    def __init__(self):\n",
    "        Frame.__init__(self)\n",
    "\n",
    "        self.myCanvas = Canvas(width=150, height=150)\n",
    "\n",
    "        self.myCanvas.create_line(50, 0, 50, 100)\n",
    "        self.myCanvas.create_line(0, 50, 1000, 50)\n",
    "        #self.myCanvas.create_text(50, 50, text=\"Hi there!\", anchor=\"nw\")\n",
    "        self.myCanvas.create_text(50, 50, text=\"Hi there!\", anchor=\"se\")\n",
    "\n",
    "        self.myCanvas.grid()\n",
    "\n",
    "frame01 = MyFrame4()\n",
    "frame01.mainloop()"
   ]
  },
  {
   "cell_type": "code",
   "execution_count": 7,
   "metadata": {},
   "outputs": [],
   "source": [
    "#Changing the Font\n",
    "#self.myCanvas.create_text(1, 1, text=\"Hello World\", width=70, fill=\"blue\", anchor=\"nw\", justify=\"center\", font=(\"Times\", 16))\n",
    "\n",
    "class MyFrame5(Frame):\n",
    "    def __init__(self):\n",
    "        Frame.__init__(self)\n",
    "\n",
    "        self.myCanvas = Canvas(width=150, height=150)\n",
    "        self.myCanvas.create_text(1, 1, text=\"Hello World\", width=70, fill=\"blue\", anchor=\"nw\", justify=\"center\", font=(\"Times\", 16)) \n",
    "\n",
    "        self.myCanvas.grid()\n",
    "\n",
    "frame02 = MyFrame5()\n",
    "frame02.mainloop()"
   ]
  }
 ],
 "metadata": {
  "kernelspec": {
   "display_name": "Python 3",
   "language": "python",
   "name": "python3"
  },
  "language_info": {
   "codemirror_mode": {
    "name": "ipython",
    "version": 3
   },
   "file_extension": ".py",
   "mimetype": "text/x-python",
   "name": "python",
   "nbconvert_exporter": "python",
   "pygments_lexer": "ipython3",
   "version": "3.12.5"
  }
 },
 "nbformat": 4,
 "nbformat_minor": 2
}
