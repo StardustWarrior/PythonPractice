{
 "cells": [
  {
   "cell_type": "code",
   "execution_count": 1,
   "metadata": {},
   "outputs": [],
   "source": [
    "#Pausing an Application’s Execution\n",
    "from tkinter import *\n",
    "from time import *\n",
    "\n",
    "class MyFrame(Frame):\n",
    "    def __init__(self):\n",
    "        Frame.__init__(self)\n",
    "\n",
    "        self.myCanvas = Canvas(width=300, height=200, bg=\"white\")\n",
    "        self.myCanvas.grid()\n",
    "\n",
    "        self.myCanvas.create_rectangle(10, 10, 50, 50)\n",
    "        self.myCanvas.update()\n",
    "\n",
    "        sleep(1)\n",
    "\n",
    "        self.myCanvas.create_rectangle(20, 20, 60, 60)\n",
    "\n",
    "frame02 = MyFrame()\n",
    "frame02.mainloop()"
   ]
  },
  {
   "cell_type": "code",
   "execution_count": 3,
   "metadata": {},
   "outputs": [],
   "source": [
    "#Incorporating Looping\n",
    "\n",
    "class MyFrame(Frame):\n",
    "    def __init__(self):\n",
    "        Frame.__init__(self)\n",
    "\n",
    "        self.myCanvas = Canvas(width=300, height=200, bg=\"white\")\n",
    "        self.myCanvas.grid()\n",
    "\n",
    "        for count in range(10):\n",
    "            increment = 10*count\n",
    "            self.myCanvas.create_rectangle(10 + increment, 10 + increment, 50 + increment, 50 + increment)\n",
    "            self.myCanvas.update()\n",
    "            sleep(1)\n",
    "\n",
    "frame02 = MyFrame()\n",
    "frame02.mainloop()"
   ]
  },
  {
   "cell_type": "code",
   "execution_count": 4,
   "metadata": {},
   "outputs": [],
   "source": [
    "#Moving a Single Shape: Method 1\n",
    "class MyFrame(Frame):\n",
    "\tdef __init__(self):\n",
    "\t\tFrame.__init__(self)\n",
    "\n",
    "\t\tself.myCanvas = Canvas(width=300, height=200, bg=\"white\")\n",
    "\t\tself.myCanvas.grid()\n",
    "\n",
    "\t\tfor count in range(10):\n",
    "\t\t\tincrement = 10*count\n",
    "\t\t\tself.myCanvas.create_rectangle(10 + increment, 10 + increment, 50 + increment, 50 + increment)\n",
    "\t\t\tself.myCanvas.update()\n",
    "\t\t\tsleep(1)\n",
    "\n",
    "\t\t\t# Now color over the previous rectangle\n",
    "\t\t\tself.myCanvas.create_rectangle(10 + increment, 10 + increment, 50 + increment, 50 + increment, outline=\"white\")\n",
    "\n",
    "frame02 = MyFrame()\n",
    "frame02.mainloop()"
   ]
  },
  {
   "cell_type": "code",
   "execution_count": 5,
   "metadata": {},
   "outputs": [],
   "source": [
    "#Moving a Single Shape: Method 2\n",
    "class MyFrame(Frame):\n",
    "\tdef __init__(self):\n",
    "\t\tFrame.__init__(self)\n",
    "\n",
    "\t\tself.myCanvas = Canvas(width=300, height=200, bg=\"white\")\n",
    "\t\tself.myCanvas.grid()\n",
    "\n",
    "\t\tmy_rect_id = self.myCanvas.create_rectangle(10, 10, 50, 50)\n",
    "\t\tself.myCanvas.update()\n",
    "\n",
    "\t\tfor count in range(10):\n",
    "\t\t\tincrement = 10*count\n",
    "\t\t\tself.myCanvas.coords(my_rect_id, 10 + increment, 10 + increment, 50 + increment, 50 + increment)\n",
    "\t\t\tself.myCanvas.update()\n",
    "\t\t\tsleep(1)\n",
    "\n",
    "frame02 = MyFrame()\n",
    "frame02.mainloop()"
   ]
  }
 ],
 "metadata": {
  "kernelspec": {
   "display_name": "Python 3",
   "language": "python",
   "name": "python3"
  },
  "language_info": {
   "codemirror_mode": {
    "name": "ipython",
    "version": 3
   },
   "file_extension": ".py",
   "mimetype": "text/x-python",
   "name": "python",
   "nbconvert_exporter": "python",
   "pygments_lexer": "ipython3",
   "version": "3.12.5"
  }
 },
 "nbformat": 4,
 "nbformat_minor": 2
}
