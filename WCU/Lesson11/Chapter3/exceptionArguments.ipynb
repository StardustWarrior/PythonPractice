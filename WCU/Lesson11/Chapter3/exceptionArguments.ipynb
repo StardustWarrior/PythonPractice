{
 "cells": [
  {
   "cell_type": "code",
   "execution_count": 1,
   "metadata": {},
   "outputs": [
    {
     "name": "stdout",
     "output_type": "stream",
     "text": [
      "list index out of range\n"
     ]
    }
   ],
   "source": [
    "#Exception Arguments Overview\n",
    "try:\n",
    "    my_list = [0, 1, 2]\n",
    "    print (my_list [4])\n",
    "except IndexError as ie:\n",
    "    print (ie)"
   ]
  },
  {
   "cell_type": "code",
   "execution_count": 2,
   "metadata": {},
   "outputs": [
    {
     "name": "stdout",
     "output_type": "stream",
     "text": [
      "filename: dataFile.txt\n",
      "strerror: No such file or directory\n"
     ]
    }
   ],
   "source": [
    "#Using Exception Arguments\n",
    "try:\n",
    "    infile = open('dataFile.txt', 'r')\n",
    "    infile.write(\"hello\")\n",
    "\n",
    "    infile.close()\n",
    "except IOError as ioe:\n",
    "    print (\"filename:\", ioe.filename)\n",
    "    print (\"strerror:\", ioe.strerror)"
   ]
  },
  {
   "cell_type": "code",
   "execution_count": 4,
   "metadata": {},
   "outputs": [
    {
     "name": "stdout",
     "output_type": "stream",
     "text": [
      "The result of dividing 10 by your number is 1.0\n"
     ]
    }
   ],
   "source": [
    "#The else and finally Blocks\n",
    "try:\n",
    "    user_num = eval( input(\"Please enter a number: \") )\n",
    "    result = 10 / user_num\n",
    "except (NameError, SyntaxError):\n",
    "    print (\"The value you entered was not a number\")\n",
    "except ZeroDivisionError:\n",
    "    print (\"You cannot divide by zero\")\n",
    "else:\n",
    "    print (\"The result of dividing 10 by your number is\", result)"
   ]
  },
  {
   "cell_type": "code",
   "execution_count": 5,
   "metadata": {},
   "outputs": [
    {
     "name": "stdout",
     "output_type": "stream",
     "text": [
      "Could not open file: data.txt\n"
     ]
    }
   ],
   "source": [
    "#Finally Block\n",
    "try:\n",
    "    infile = open('data.txt', 'r')\n",
    "    try:\n",
    "        value = infile.readline()\n",
    "        number = int(value)\n",
    "        print (number)\n",
    "    finally:\n",
    "        infile.close()\n",
    "        print (\"the data file was closed\")\n",
    "except IOError as io:\n",
    "    print (\"Could not open file:\", io.filename)\n",
    "except ValueError:\n",
    "    print (\"Could not convert\", value, \"to a number\")"
   ]
  }
 ],
 "metadata": {
  "kernelspec": {
   "display_name": "Python 3",
   "language": "python",
   "name": "python3"
  },
  "language_info": {
   "codemirror_mode": {
    "name": "ipython",
    "version": 3
   },
   "file_extension": ".py",
   "mimetype": "text/x-python",
   "name": "python",
   "nbconvert_exporter": "python",
   "pygments_lexer": "ipython3",
   "version": "3.11.5"
  }
 },
 "nbformat": 4,
 "nbformat_minor": 2
}
