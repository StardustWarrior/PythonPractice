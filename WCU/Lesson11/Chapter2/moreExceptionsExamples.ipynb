{
 "cells": [
  {
   "cell_type": "code",
   "execution_count": 1,
   "metadata": {},
   "outputs": [
    {
     "name": "stdout",
     "output_type": "stream",
     "text": [
      "You must enter a number for your age\n",
      "Have a nice day. Goodbye.\n"
     ]
    }
   ],
   "source": [
    "#Handling Multiple Exceptions\n",
    "try:\n",
    "    age = eval( input(\"Please enter your age: \") )\n",
    "    ten_years = age + 10\n",
    "    print (\"In 10 years, you'll be\", ten_years)\n",
    "except NameError:\n",
    "    print (\"You must enter a number for your age\")\n",
    "except SyntaxError:\n",
    "    print (\"You must enter a number for your age\")\n",
    "\n",
    "print (\"Have a nice day. Goodbye.\")"
   ]
  },
  {
   "cell_type": "code",
   "execution_count": 2,
   "metadata": {},
   "outputs": [
    {
     "name": "stdout",
     "output_type": "stream",
     "text": [
      "In 10 years, you'll be 20\n",
      "Have a nice day. Goodbye.\n"
     ]
    }
   ],
   "source": [
    "#Writing One except Block for Multiple Exception Types\n",
    "try:\n",
    "    age = eval( input(\"Please enter your age: \") )\n",
    "    ten_years = age + 10\n",
    "    print (\"In 10 years, you'll be\", ten_years)\n",
    "except (NameError, SyntaxError):\n",
    "    print (\"You must enter a number for your age\")\n",
    "\n",
    "print (\"Have a nice day. Goodbye.\")"
   ]
  },
  {
   "cell_type": "code",
   "execution_count": null,
   "metadata": {},
   "outputs": [],
   "source": [
    "#Python Exception Hierarchy\n",
    "'''\n",
    "This code will handle either the NameError or the SyntaxError exceptions. However, it also handles any possible \n",
    "exception that Python can generate: ZeroDivisionError, KeyError, SystemError, or anything else.\n",
    "'''\n",
    "\n",
    "try:\n",
    "    age = eval( input(\"Please enter your age: \") )\n",
    "    ten_years = age + 10\n",
    "    print (\"In 10 years, you'll be\", ten_years)\n",
    "except Exception:\n",
    "    print (\"You must enter a number for your age\")\n",
    "\n",
    "print (\"Have a nice day. Goodbye.\")"
   ]
  },
  {
   "cell_type": "code",
   "execution_count": null,
   "metadata": {},
   "outputs": [],
   "source": [
    "#Handling exceptions\n",
    "try:\n",
    "    age = eval( input(\"Please enter your age: \") )\n",
    "    ten_years = age + 10\n",
    "    print (\"In 10 years, you'll be\", ten_years)\n",
    "except NameError:\n",
    "    print (\"A NameError has occurred\")\n",
    "except Exception:\n",
    "    print (\"Something unexpected has happened\")\n",
    "\n",
    "print (\"Have a nice day. Goodbye.\")"
   ]
  }
 ],
 "metadata": {
  "kernelspec": {
   "display_name": "Python 3",
   "language": "python",
   "name": "python3"
  },
  "language_info": {
   "codemirror_mode": {
    "name": "ipython",
    "version": 3
   },
   "file_extension": ".py",
   "mimetype": "text/x-python",
   "name": "python",
   "nbconvert_exporter": "python",
   "pygments_lexer": "ipython3",
   "version": "3.11.5"
  }
 },
 "nbformat": 4,
 "nbformat_minor": 2
}
