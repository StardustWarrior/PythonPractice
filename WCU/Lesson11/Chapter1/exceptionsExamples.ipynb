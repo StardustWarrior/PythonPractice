{
 "cells": [
  {
   "cell_type": "code",
   "execution_count": null,
   "metadata": {},
   "outputs": [],
   "source": [
    "#Introducing Exceptions\n",
    "#The eval( ) Function\n",
    "'''\n",
    ">>>value = eval( input(\"Enter a number: \") )\n",
    "Enter a number: Mike\n",
    "\n",
    "Traceback (most recent call last):\n",
    "    File \"<pyshell#0>\", line 1, in <module>\n",
    "        value = eval( input(\"Enter a number: \") )\n",
    "    File \"<string>\", line 1, in <module>\n",
    "NameError: name 'Mike' is not defined\n",
    "'''"
   ]
  },
  {
   "cell_type": "code",
   "execution_count": 1,
   "metadata": {},
   "outputs": [
    {
     "name": "stdout",
     "output_type": "stream",
     "text": [
      "You must enter a number for your age\n",
      "Have a nice day. Goodbye.\n"
     ]
    }
   ],
   "source": [
    "#Using Try and Except Blocks\n",
    "#Syntax:\n",
    "'''\n",
    "try:\n",
    "    < statements that may raise an exception >\n",
    "except < Exception Type >:\n",
    "    < statements to be run should the exception occur >\n",
    "'''\n",
    "\n",
    "try:\n",
    "    age = eval( input('Please enter your age: ') )\n",
    "    ten_years = age + 10\n",
    "    print (\"In 10 years, you'll be\", ten_years)\n",
    "except NameError:\n",
    "    print (\"You must enter a number for your age\")\n",
    "\n",
    "print (\"Have a nice day. Goodbye.\")"
   ]
  }
 ],
 "metadata": {
  "kernelspec": {
   "display_name": "Python 3",
   "language": "python",
   "name": "python3"
  },
  "language_info": {
   "codemirror_mode": {
    "name": "ipython",
    "version": 3
   },
   "file_extension": ".py",
   "mimetype": "text/x-python",
   "name": "python",
   "nbconvert_exporter": "python",
   "pygments_lexer": "ipython3",
   "version": "3.11.5"
  }
 },
 "nbformat": 4,
 "nbformat_minor": 2
}
