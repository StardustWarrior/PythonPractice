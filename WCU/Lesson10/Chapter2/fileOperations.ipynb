{
 "cells": [
  {
   "cell_type": "code",
   "execution_count": 4,
   "metadata": {},
   "outputs": [],
   "source": [
    "#Create the file\n",
    "out_file = open('mydata.txt', 'w')\n",
    "out_file.write('Goodbye')\n",
    "out_file.close()\n",
    "\n",
    "#Appending to an Existing File\n",
    "'''\n",
    "a = appends to the existing file without erasing the previous data\n",
    "'''\n",
    "out_file = open('mydata.txt', 'a')\n",
    "out_file.write('\\nSo Long!!!!')\n",
    "out_file.close()\n",
    "\n",
    "out_file = open('mydata.txt', 'a')\n",
    "out_file.write('\\nNice Try!!!!')\n",
    "out_file.close()"
   ]
  },
  {
   "cell_type": "code",
   "execution_count": 5,
   "metadata": {},
   "outputs": [
    {
     "name": "stdout",
     "output_type": "stream",
     "text": [
      "F\n",
      "1\n",
      "irst line\n",
      "\n",
      "12\n"
     ]
    }
   ],
   "source": [
    "#Other Options when Opening Files\n",
    "#Create the file\n",
    "out_file = open('mydata2.txt', 'w')\n",
    "out_file.write('First line\\n')\n",
    "out_file.write('Second line')\n",
    "out_file.close()\n",
    "\n",
    "in_file = open('mydata2.txt', 'r+')\n",
    "print (in_file.read(1))\n",
    "print (in_file.tell())\n",
    "\n",
    "print (in_file.readline())\n",
    "print (in_file.tell())\n",
    "in_file.close()"
   ]
  },
  {
   "cell_type": "code",
   "execution_count": 6,
   "metadata": {},
   "outputs": [
    {
     "name": "stdout",
     "output_type": "stream",
     "text": [
      "First line\n",
      "\n",
      "First line\n",
      "\n"
     ]
    }
   ],
   "source": [
    "#The seek() Function\n",
    "in_file = open('mydata2.txt', 'r+')\n",
    "print (in_file.readline())\n",
    "in_file.seek(0)\n",
    "print (in_file.readline())\n",
    "in_file.close()"
   ]
  },
  {
   "cell_type": "code",
   "execution_count": 7,
   "metadata": {},
   "outputs": [
    {
     "name": "stdout",
     "output_type": "stream",
     "text": [
      "First line\n",
      "\n",
      "Hi!st line\n",
      "\n"
     ]
    }
   ],
   "source": [
    "#Reading and Writing at the Same Time\n",
    "in_file = open('mydata2.txt', 'r+')\n",
    "print (in_file.readline())\n",
    "in_file.seek(0)\n",
    "in_file.write('Hi!')\n",
    "in_file.seek(0)\n",
    "print (in_file.readline())\n",
    "in_file.close()"
   ]
  }
 ],
 "metadata": {
  "kernelspec": {
   "display_name": "Python 3",
   "language": "python",
   "name": "python3"
  },
  "language_info": {
   "codemirror_mode": {
    "name": "ipython",
    "version": 3
   },
   "file_extension": ".py",
   "mimetype": "text/x-python",
   "name": "python",
   "nbconvert_exporter": "python",
   "pygments_lexer": "ipython3",
   "version": "3.11.5"
  }
 },
 "nbformat": 4,
 "nbformat_minor": 2
}
