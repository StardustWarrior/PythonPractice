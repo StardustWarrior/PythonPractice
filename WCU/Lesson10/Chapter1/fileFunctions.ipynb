{
 "cells": [
  {
   "cell_type": "code",
   "execution_count": 4,
   "metadata": {},
   "outputs": [],
   "source": [
    "#Creating a file\n",
    "'''\n",
    "First parameter is file location\n",
    "Second parameter is the action\n",
    "r = read\n",
    "w = open the file\n",
    "'''\n",
    "out_file = open('mydata.txt', 'w')\n",
    "\n",
    "#Writing to a Data File\n",
    "'''\n",
    "There are 2 functions:\n",
    "write( ) function writes a single string to a file.\n",
    "Writelines( ) writes a list of strings.\n",
    "But be aware that neither function creates line breaks within a single line or multiple lines of string.\n",
    "'''\n",
    "out_file.write('Hello\\n')\n",
    "out_file.write('world!')\n",
    "\n",
    "#Closing a Data File\n",
    "out_file.close()"
   ]
  },
  {
   "cell_type": "code",
   "execution_count": 5,
   "metadata": {},
   "outputs": [],
   "source": [
    "#The writelines() Function\n",
    "out_file2 = open('mydata2.txt', 'w')\n",
    "weekends = ['Saturday', 'Sunday']\n",
    "out_file2.writelines(weekends)\n",
    "out_file2.writelines(weekends)\n",
    "out_file2.close()"
   ]
  },
  {
   "cell_type": "code",
   "execution_count": 7,
   "metadata": {},
   "outputs": [
    {
     "name": "stdout",
     "output_type": "stream",
     "text": [
      "S\n",
      "aturdaySundaySaturdaySunday\n"
     ]
    }
   ],
   "source": [
    "#Reading from Files with read()\n",
    "in_file = open('mydata2.txt', 'r')\n",
    "'''\n",
    "Once the file is opened, there are three functions you can use to read from a file: read( ), readline( ), and readlines( ).\n",
    "'''\n",
    "print(in_file.read( 1 ))\n",
    "print(in_file.read( ))"
   ]
  },
  {
   "cell_type": "code",
   "execution_count": 8,
   "metadata": {},
   "outputs": [
    {
     "name": "stdout",
     "output_type": "stream",
     "text": [
      "Hello\n",
      "\n",
      "['Hello\\n', 'world!']\n"
     ]
    }
   ],
   "source": [
    "#Reading from Files with readlines()\n",
    "in_file = open('mydata.txt', 'r')\n",
    "print(in_file.readline( ))\n",
    "in_file.close()\n",
    "\n",
    "in_file = open('mydata.txt', 'r')\n",
    "print(in_file.readlines( ))\n",
    "in_file.close()"
   ]
  }
 ],
 "metadata": {
  "kernelspec": {
   "display_name": "Python 3",
   "language": "python",
   "name": "python3"
  },
  "language_info": {
   "codemirror_mode": {
    "name": "ipython",
    "version": 3
   },
   "file_extension": ".py",
   "mimetype": "text/x-python",
   "name": "python",
   "nbconvert_exporter": "python",
   "pygments_lexer": "ipython3",
   "version": "3.11.5"
  }
 },
 "nbformat": 4,
 "nbformat_minor": 2
}
