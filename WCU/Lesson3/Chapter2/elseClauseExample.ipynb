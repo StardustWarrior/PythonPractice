{
 "cells": [
  {
   "cell_type": "code",
   "execution_count": 2,
   "metadata": {},
   "outputs": [
    {
     "name": "stdout",
     "output_type": "stream",
     "text": [
      "Congratulations!\n",
      "You are old enough to vote.\n"
     ]
    }
   ],
   "source": [
    "#Else Clause example\n",
    "age = 34\n",
    "if age >= 18:\n",
    "   print (\"Congratulations!\")\n",
    "   print (\"You are old enough to vote.\")\n",
    "else:\n",
    "   print (\"I'm sorry.\")\n",
    "   print (\"You are not old enough to vote.\")"
   ]
  },
  {
   "cell_type": "code",
   "execution_count": 4,
   "metadata": {},
   "outputs": [
    {
     "name": "stdout",
     "output_type": "stream",
     "text": [
      "Junior\n"
     ]
    }
   ],
   "source": [
    "#Including More Than Two Choices\n",
    "year = int(input(\"Enter year: \"))\n",
    "if year == 1:\n",
    "   print (\"Freshman\")\n",
    "if year == 2:\n",
    "   print (\"Sophomore\")\n",
    "if year == 3:\n",
    "   print (\"Junior\")\n",
    "if year == 4:\n",
    "   print (\"Senior\")"
   ]
  },
  {
   "cell_type": "code",
   "execution_count": 5,
   "metadata": {},
   "outputs": [
    {
     "name": "stdout",
     "output_type": "stream",
     "text": [
      "Senior\n"
     ]
    }
   ],
   "source": [
    "#Nested if Statements\n",
    "year = int(input(\"Enter year: \"))\n",
    "if year == 1:\n",
    "  print (\"Freshman\")\n",
    "else:\n",
    "  if year == 2:\n",
    "     print (\"Sophomore\")\n",
    "  else:\n",
    "     if year == 3:\n",
    "        print (\"Junior\")\n",
    "     else:\n",
    "        if year == 4:\n",
    "           print (\"Senior\")"
   ]
  },
  {
   "cell_type": "code",
   "execution_count": 6,
   "metadata": {},
   "outputs": [
    {
     "name": "stdout",
     "output_type": "stream",
     "text": [
      "Senior\n"
     ]
    }
   ],
   "source": [
    "#The elif Statement\n",
    "year = int(input(\"Enter year: \"))\n",
    "if year == 1:\n",
    "   print (\"Freshman\")\n",
    "elif year == 2:\n",
    "   print (\"Sophomore\")\n",
    "elif year == 3:\n",
    "   print (\"Junior\")\n",
    "elif year == 4:\n",
    "   print (\"Senior\")"
   ]
  }
 ],
 "metadata": {
  "kernelspec": {
   "display_name": "Python 3",
   "language": "python",
   "name": "python3"
  },
  "language_info": {
   "codemirror_mode": {
    "name": "ipython",
    "version": 3
   },
   "file_extension": ".py",
   "mimetype": "text/x-python",
   "name": "python",
   "nbconvert_exporter": "python",
   "pygments_lexer": "ipython3",
   "version": "3.12.5"
  }
 },
 "nbformat": 4,
 "nbformat_minor": 2
}
