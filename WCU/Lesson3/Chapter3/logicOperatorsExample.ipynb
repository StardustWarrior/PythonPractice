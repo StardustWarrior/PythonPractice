{
 "cells": [
  {
   "cell_type": "code",
   "execution_count": 1,
   "metadata": {},
   "outputs": [
    {
     "name": "stdout",
     "output_type": "stream",
     "text": [
      "You are ready to vote!\n"
     ]
    }
   ],
   "source": [
    "#Logic Operators\n",
    "age = int(input(\"How old are you? \"))\n",
    "registered = input(\"Are you registered? (y/n) \")\n",
    "\n",
    "if age >= 18:\n",
    "    if registered == \"y\":\n",
    "         print (\"You are ready to vote!\")\n",
    "else:\n",
    "    print (\"You are not ready to vote.\")"
   ]
  },
  {
   "cell_type": "code",
   "execution_count": 3,
   "metadata": {},
   "outputs": [
    {
     "name": "stdout",
     "output_type": "stream",
     "text": [
      "You are not ready to vote.\n"
     ]
    }
   ],
   "source": [
    "#Compound Conditions\n",
    "#The And Operator\n",
    "age = int(input(\"How old are you? \"))\n",
    "registered = input(\"Are you registered? (y/n) \")\n",
    "\n",
    "if age >= 18 and registered == \"y\":\n",
    "    print (\"You are ready to vote!\")\n",
    "else:\n",
    "    print (\"You are not ready to vote.\")"
   ]
  },
  {
   "cell_type": "code",
   "execution_count": 4,
   "metadata": {},
   "outputs": [
    {
     "name": "stdout",
     "output_type": "stream",
     "text": [
      "You entered 'y' or 'Y'\n"
     ]
    }
   ],
   "source": [
    "#The Or Operator\n",
    "answer = input(\"Please enter a letter \")\n",
    "if answer == 'y' or 'Y':\n",
    "    print (\"You entered 'y' or 'Y'\")"
   ]
  },
  {
   "cell_type": "code",
   "execution_count": 5,
   "metadata": {},
   "outputs": [
    {
     "name": "stdout",
     "output_type": "stream",
     "text": [
      "Your weekly pay is: 845.5\n"
     ]
    }
   ],
   "source": [
    "#Weekly Pay Example\n",
    "rate = int(input(\"What is your hourly wage? \"))\n",
    "hours = int(input(\"How many hours did you work? \"))\n",
    "\n",
    "if hours <= 40:\n",
    "    pay = hours * rate\n",
    "else:\n",
    "    pay = hours * rate\n",
    "    overtimeHours = hours - 40\n",
    "    overtimePay = overtimeHours * (rate * 0.5)\n",
    "    pay = pay + overtimePay\n",
    "\n",
    "print (\"Your weekly pay is:\", pay)"
   ]
  }
 ],
 "metadata": {
  "kernelspec": {
   "display_name": "Python 3",
   "language": "python",
   "name": "python3"
  },
  "language_info": {
   "codemirror_mode": {
    "name": "ipython",
    "version": 3
   },
   "file_extension": ".py",
   "mimetype": "text/x-python",
   "name": "python",
   "nbconvert_exporter": "python",
   "pygments_lexer": "ipython3",
   "version": "3.12.5"
  }
 },
 "nbformat": 4,
 "nbformat_minor": 2
}
