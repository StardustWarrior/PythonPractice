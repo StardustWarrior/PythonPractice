{
 "cells": [
  {
   "cell_type": "code",
   "execution_count": 1,
   "metadata": {},
   "outputs": [
    {
     "name": "stdout",
     "output_type": "stream",
     "text": [
      "ten\n",
      "how's that?\n"
     ]
    }
   ],
   "source": [
    "#If A Numeric Example\n",
    "age = 10\n",
    "if age == 10:\n",
    "    print (\"ten\")\n",
    "print (\"how's that?\")"
   ]
  },
  {
   "cell_type": "code",
   "execution_count": 2,
   "metadata": {},
   "outputs": [
    {
     "name": "stdout",
     "output_type": "stream",
     "text": [
      "the same\n"
     ]
    }
   ],
   "source": [
    "#If A String Example\n",
    "name = \"me\"\n",
    "if name == \"me\":\n",
    "    print (\"the same\")"
   ]
  },
  {
   "cell_type": "code",
   "execution_count": 3,
   "metadata": {},
   "outputs": [
    {
     "name": "stdout",
     "output_type": "stream",
     "text": [
      "less than D\n",
      "greater than B\n"
     ]
    }
   ],
   "source": [
    "#Another String Example\n",
    "letter = \"C\"\n",
    "if letter < \"D\":\n",
    "    print (\"less than D\")\n",
    "\n",
    "if letter > \"B\":\n",
    "    print (\"greater than B\")"
   ]
  },
  {
   "cell_type": "code",
   "execution_count": 4,
   "metadata": {},
   "outputs": [
    {
     "name": "stdout",
     "output_type": "stream",
     "text": [
      "less than a\n"
     ]
    }
   ],
   "source": [
    "#Unicode character order\n",
    "letter = \"C\"\n",
    "if letter < \"a\":\n",
    "    print (\"less than a\")"
   ]
  }
 ],
 "metadata": {
  "kernelspec": {
   "display_name": "Python 3",
   "language": "python",
   "name": "python3"
  },
  "language_info": {
   "codemirror_mode": {
    "name": "ipython",
    "version": 3
   },
   "file_extension": ".py",
   "mimetype": "text/x-python",
   "name": "python",
   "nbconvert_exporter": "python",
   "pygments_lexer": "ipython3",
   "version": "3.12.5"
  }
 },
 "nbformat": 4,
 "nbformat_minor": 2
}
