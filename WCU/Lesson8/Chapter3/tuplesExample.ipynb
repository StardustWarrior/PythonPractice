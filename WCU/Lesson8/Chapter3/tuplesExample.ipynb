{
 "cells": [
  {
   "cell_type": "code",
   "execution_count": 2,
   "metadata": {},
   "outputs": [
    {
     "data": {
      "text/plain": [
       "\"\\nTheres are conceptual differences as well. First, you can't change the values of the items in a tuple. The technical term to describe this is immutable. \\nFor example, if you've already stored the value 15 in position 1, you cannot change it later to 16.\\n\""
      ]
     },
     "execution_count": 2,
     "metadata": {},
     "output_type": "execute_result"
    }
   ],
   "source": [
    "#Tuples\n",
    "days_of_week = ('Sun', 'Mon', 'Tue', 'Wed', 'Thu', 'Fri', 'Sat')\n",
    "#days_of_week [0] = 'Sunday'\n",
    "'''\n",
    "Theres are conceptual differences as well. First, you can't change the values of the items in a tuple. The technical term to describe this is immutable. \n",
    "For example, if you've already stored the value 15 in position 1, you cannot change it later to 16.\n",
    "'''"
   ]
  },
  {
   "cell_type": "code",
   "execution_count": 4,
   "metadata": {},
   "outputs": [],
   "source": [
    "#Tuples and Tkinter\n",
    "from tkinter import *\n",
    "\n",
    "class MyFrame(Frame):\n",
    "    def __init__(self):\n",
    "        Frame.__init__(self)\n",
    "\n",
    "        self.myCanvas = Canvas(width=300, height=200)\n",
    "        my_font = (\"Times\", 16)\n",
    "\n",
    "        self.myCanvas.create_text(50, 50, text=\"First\", font=my_font)\n",
    "        self.myCanvas.create_text(80, 80, text=\"Second\", font=my_font)\n",
    "\n",
    "        self.myCanvas.grid()\n",
    "\n",
    "frame02 = MyFrame()\n",
    "frame02.mainloop()"
   ]
  },
  {
   "cell_type": "code",
   "execution_count": 5,
   "metadata": {},
   "outputs": [
    {
     "name": "stdout",
     "output_type": "stream",
     "text": [
      "Finds all shapes\n",
      "(1, 2, 3)\n",
      "Finds middle shape\n",
      "(2,)\n",
      "Finds no shapes\n",
      "()\n"
     ]
    }
   ],
   "source": [
    "#Receiving a Tuple from a Function Call\n",
    "from tkinter import *\n",
    "\n",
    "class MyFrame(Frame):\n",
    "    def __init__(self):\n",
    "        Frame.__init__(self)\n",
    "\n",
    "        self.myCanvas = Canvas(width=150, height=150, bg=\"white\")\n",
    "        self.myCanvas.grid()\n",
    "\n",
    "        self.myCanvas.create_rectangle(10, 10, 20, 20, fill=\"red\")\n",
    "        self.myCanvas.create_rectangle(10, 30, 20, 40, fill=\"yellow\")\n",
    "        self.myCanvas.create_rectangle(10, 50, 20, 60, fill=\"blue\")\n",
    "\n",
    "        print (\"Finds all shapes\")\n",
    "        print (self.myCanvas.find_enclosed(0, 0, 30, 70))\n",
    "\n",
    "        print (\"Finds middle shape\")\n",
    "        print (self.myCanvas.find_enclosed(0, 25, 30, 45))\n",
    "\n",
    "        print (\"Finds no shapes\")\n",
    "        print (self.myCanvas.find_enclosed(0, 0, 1, 1) )\n",
    "\n",
    "frame02 = MyFrame()\n",
    "frame02.mainloop()"
   ]
  }
 ],
 "metadata": {
  "kernelspec": {
   "display_name": "Python 3",
   "language": "python",
   "name": "python3"
  },
  "language_info": {
   "codemirror_mode": {
    "name": "ipython",
    "version": 3
   },
   "file_extension": ".py",
   "mimetype": "text/x-python",
   "name": "python",
   "nbconvert_exporter": "python",
   "pygments_lexer": "ipython3",
   "version": "3.12.5"
  }
 },
 "nbformat": 4,
 "nbformat_minor": 2
}
