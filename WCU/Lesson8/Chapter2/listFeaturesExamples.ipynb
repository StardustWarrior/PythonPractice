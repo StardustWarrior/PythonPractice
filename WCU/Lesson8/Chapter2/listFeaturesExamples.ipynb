{
 "cells": [
  {
   "cell_type": "code",
   "execution_count": 2,
   "metadata": {},
   "outputs": [
    {
     "name": "stdout",
     "output_type": "stream",
     "text": [
      "[10, 'ten']\n"
     ]
    }
   ],
   "source": [
    "#Adding Items to the List\n",
    "my_list = []\n",
    "my_list.append(10)\n",
    "my_list.append('ten')\n",
    "print(my_list)"
   ]
  },
  {
   "cell_type": "code",
   "execution_count": 3,
   "metadata": {},
   "outputs": [
    {
     "name": "stdout",
     "output_type": "stream",
     "text": [
      "[10, 'ten', 20, 'twenty']\n"
     ]
    }
   ],
   "source": [
    "#The Extend Function\n",
    "my_list.extend( [20, 'twenty'] )\n",
    "print(my_list)"
   ]
  },
  {
   "cell_type": "code",
   "execution_count": 4,
   "metadata": {},
   "outputs": [
    {
     "name": "stdout",
     "output_type": "stream",
     "text": [
      "[10, 'ten', 20, 'twenty', 30, 'thirty']\n",
      "[10, 'ten', 20, 'hi there!', 'twenty', 30, 'thirty']\n"
     ]
    }
   ],
   "source": [
    "#Adding Items with Concatenation and Insert\n",
    "my_list = my_list + [30, 'thirty']\n",
    "print(my_list)\n",
    "my_list.insert(3, 'hi there!')\n",
    "print(my_list)"
   ]
  },
  {
   "cell_type": "code",
   "execution_count": 5,
   "metadata": {},
   "outputs": [
    {
     "name": "stdout",
     "output_type": "stream",
     "text": [
      "[10, 'ten', 20, 'twenty', 30, 'thirty']\n"
     ]
    }
   ],
   "source": [
    "#Removing Items from the List\n",
    "my_list.remove('hi there!')\n",
    "print(my_list)"
   ]
  },
  {
   "cell_type": "code",
   "execution_count": 6,
   "metadata": {},
   "outputs": [
    {
     "name": "stdout",
     "output_type": "stream",
     "text": [
      "42\n",
      "4\n"
     ]
    }
   ],
   "source": [
    "#Finding the Largest Value\n",
    "my_numbers = [16, 8, 15, 42, 23, 4]\n",
    "print (max(my_numbers))\n",
    "print (min(my_numbers))"
   ]
  },
  {
   "cell_type": "code",
   "execution_count": 7,
   "metadata": {},
   "outputs": [
    {
     "name": "stdout",
     "output_type": "stream",
     "text": [
      "[4, 8, 15, 16, 23, 42]\n"
     ]
    }
   ],
   "source": [
    "#Sorting\n",
    "my_numbers.sort()\n",
    "print (my_numbers)"
   ]
  },
  {
   "cell_type": "code",
   "execution_count": 8,
   "metadata": {},
   "outputs": [
    {
     "name": "stdout",
     "output_type": "stream",
     "text": [
      "[42, 23, 16, 15, 8, 4]\n"
     ]
    }
   ],
   "source": [
    "#Reversing\n",
    "my_numbers.reverse()\n",
    "print (my_numbers)"
   ]
  }
 ],
 "metadata": {
  "kernelspec": {
   "display_name": "Python 3",
   "language": "python",
   "name": "python3"
  },
  "language_info": {
   "codemirror_mode": {
    "name": "ipython",
    "version": 3
   },
   "file_extension": ".py",
   "mimetype": "text/x-python",
   "name": "python",
   "nbconvert_exporter": "python",
   "pygments_lexer": "ipython3",
   "version": "3.12.5"
  }
 },
 "nbformat": 4,
 "nbformat_minor": 2
}
