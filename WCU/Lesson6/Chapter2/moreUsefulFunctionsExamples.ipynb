{
 "cells": [
  {
   "cell_type": "code",
   "execution_count": 1,
   "metadata": {},
   "outputs": [],
   "source": [
    "#More Useful Functions\n",
    "class Time:\n",
    "    \"\"\" Blueprint for a Time object\"\"\"\n",
    "    def __init__(self):\n",
    "        self.hour = 0\n",
    "        self.minute = 0\n",
    "        self.second = 0\n",
    "\n",
    "    def set_time(self, hour, minute, second):\n",
    "        self.hour = hour\n",
    "        self.minute = minute\n",
    "        self.second = second\n",
    "    \n",
    "    def print_time(self):\n",
    "        print (self.hour, \":\", self.minute, \":\", self.second)"
   ]
  },
  {
   "cell_type": "code",
   "execution_count": 3,
   "metadata": {},
   "outputs": [
    {
     "name": "stdout",
     "output_type": "stream",
     "text": [
      "1 : 2 : 3\n"
     ]
    }
   ],
   "source": [
    "#Creating an Object\n",
    "myTime1 = Time()\n",
    "myTime1.set_time(1, 2, 3)\n",
    "myTime1.print_time()"
   ]
  },
  {
   "cell_type": "code",
   "execution_count": 4,
   "metadata": {},
   "outputs": [
    {
     "name": "stdout",
     "output_type": "stream",
     "text": [
      "My two time objects are now storing:\n",
      "1 : 2 : 3\n",
      "12 : 0 : 0\n"
     ]
    }
   ],
   "source": [
    "#Creating Additional Objects\n",
    "# Second Time object\n",
    "myTime2 = Time()\n",
    "myTime2.set_time(12, 0, 0)\n",
    "\n",
    "print (\"My two time objects are now storing:\")\n",
    "myTime1.print_time()\n",
    "myTime2.print_time()"
   ]
  }
 ],
 "metadata": {
  "kernelspec": {
   "display_name": "Python 3",
   "language": "python",
   "name": "python3"
  },
  "language_info": {
   "codemirror_mode": {
    "name": "ipython",
    "version": 3
   },
   "file_extension": ".py",
   "mimetype": "text/x-python",
   "name": "python",
   "nbconvert_exporter": "python",
   "pygments_lexer": "ipython3",
   "version": "3.12.5"
  }
 },
 "nbformat": 4,
 "nbformat_minor": 2
}
