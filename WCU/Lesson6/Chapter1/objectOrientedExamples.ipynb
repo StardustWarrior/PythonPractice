{
 "cells": [
  {
   "cell_type": "code",
   "execution_count": 1,
   "metadata": {},
   "outputs": [],
   "source": [
    "#Creating a Class to Tell Time\n",
    "#Creating a Constructor\n",
    "class Time:\n",
    "    \"\"\" Blueprint for a Time object\"\"\"\n",
    "    def __init__(self):\n",
    "        self.hour = 0\n",
    "        self.minute = 0\n",
    "        self.second = 0"
   ]
  }
 ],
 "metadata": {
  "kernelspec": {
   "display_name": "Python 3",
   "language": "python",
   "name": "python3"
  },
  "language_info": {
   "codemirror_mode": {
    "name": "ipython",
    "version": 3
   },
   "file_extension": ".py",
   "mimetype": "text/x-python",
   "name": "python",
   "nbconvert_exporter": "python",
   "pygments_lexer": "ipython3",
   "version": "3.12.5"
  }
 },
 "nbformat": 4,
 "nbformat_minor": 2
}
